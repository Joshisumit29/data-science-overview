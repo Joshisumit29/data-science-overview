{
  "metadata": {
    "kernelspec": {
      "name": "python",
      "display_name": "Python (Pyodide)",
      "language": "python"
    },
    "language_info": {
      "codemirror_mode": {
        "name": "python",
        "version": 3
      },
      "file_extension": ".py",
      "mimetype": "text/x-python",
      "name": "python",
      "nbconvert_exporter": "python",
      "pygments_lexer": "ipython3",
      "version": "3.8"
    }
  },
  "nbformat_minor": 4,
  "nbformat": 4,
  "cells": [
    {
      "cell_type": "markdown",
      "source": "# Data Science Overview\n\n**Introduction**\n\nWelcome to this Data Science Overview notebook! This notebook provides insights into the core elements of data science, covering popular programming languages, essential libraries, and frequently used tools. It also includes practical examples of basic operations that are foundational to data science. Whether you're new to the field or looking for a quick refresher, this resource will give you a clear understanding of the tools and techniques commonly applied in data science.\n",
      "metadata": {}
    },
    {
      "cell_type": "markdown",
      "source": "# Popular Data Science Languages\n\n1. **Python**\n   - Widely used for data analysis, machine learning, and scripting.\n   - Rich ecosystem of libraries like Pandas, NumPy, and Scikit-learn.\n\n2. **R**\n   - Designed for statistical computing and data visualization.\n   - Popular libraries include ggplot2, dplyr, and tidyr.\n\n3. **SQL**\n   - Essential for database querying and manipulation.\n   - Used to extract and manage data from relational databases.\n\n4. **Java**\n   - Used in large-scale data processing and backend systems.\n   - Popular frameworks include Apache Hadoop and Apache Spark.\n\n5. **Julia**\n   - Known for high-performance numerical and scientific computing.\n   - Gaining popularity for its speed and efficiency in data science.\n\n6. **Scala**\n   - Often used with Apache Spark for big data processing.\n   - Combines functional and object-oriented programming paradigms.\n\n7. **MATLAB**\n   - Used primarily in academia and engineering for numerical analysis.\n   - Provides built-in support for matrix operations and data visualization.\n\n8. **SAS**\n   - A software suite used for advanced analytics, business intelligence, and data management.\n   - Common in industries like healthcare and finance.\n\n9. **C/C++**\n   - Used for performance-critical applications and algorithms.\n   - Commonly applied in developing high-performance machine learning models.\n\n10. **JavaScript**\n    - Increasingly used for data visualization on the web.\n    - Libraries like D3.js help create interactive data visualizations.\n\n\n       ",
      "metadata": {}
    },
    {
      "cell_type": "code",
      "source": "## Popular Data Science Libraries\n\n1. Pandas\n2. NumPy\n3. Scikit-learn\n4. TensorFlow\n5. Keras\n6. Matplotlib\n7. Seaborn\n8. Statsmodels\n9. NLTK\n10. PyTorch\n",
      "metadata": {
        "trusted": true
      },
      "outputs": [],
      "execution_count": null
    },
    {
      "cell_type": "code",
      "source": "## Data Science Tools\n\n| Tool          | Description                                  |\n|---------------|----------------------------------------------|\n| Jupyter       | An open-source web application for notebooks.|\n| RStudio       | An IDE for R programming.                   |\n| Apache Spark  | A unified analytics engine for big data.    |\n| Tableau       | A data visualization tool.                   |\n| Excel         | A spreadsheet tool for data analysis.       |\n",
      "metadata": {
        "trusted": true
      },
      "outputs": [],
      "execution_count": null
    },
    {
      "cell_type": "code",
      "source": "## Arithmetic Expressions Examples\n\nThis section demonstrates basic arithmetic operations in Python.\n",
      "metadata": {
        "trusted": true
      },
      "outputs": [],
      "execution_count": null
    },
    {
      "cell_type": "code",
      "source": "# Convert Minutes to Hours\nminutes = 120\nhours = minutes / 60\nhours\n",
      "metadata": {
        "trusted": true
      },
      "outputs": [],
      "execution_count": null
    },
    {
      "cell_type": "code",
      "source": "## Objectives\n\n- Understand the basics of data science.\n- Learn about popular programming languages and libraries.\n- Explore data science tools and their applications.\n- Implement basic arithmetic operations in Python.\n",
      "metadata": {
        "trusted": true
      },
      "outputs": [],
      "execution_count": null
    },
    {
      "cell_type": "code",
      "source": "## Author Details\nName: Sumit\n",
      "metadata": {
        "trusted": true
      },
      "outputs": [],
      "execution_count": null
    },
    {
      "cell_type": "code",
      "source": "# Multiplication and Addition\na = 5\nb = 10\nproduct = a * b\nsum_result = a + b\nproduct, sum_result\n",
      "metadata": {
        "trusted": true
      },
      "outputs": [
        {
          "execution_count": 1,
          "output_type": "execute_result",
          "data": {
            "text/plain": "(50, 15)"
          },
          "metadata": {}
        }
      ],
      "execution_count": 1
    },
    {
      "cell_type": "code",
      "source": "",
      "metadata": {
        "trusted": true
      },
      "outputs": [],
      "execution_count": null
    },
    {
      "cell_type": "code",
      "source": "",
      "metadata": {
        "trusted": true
      },
      "outputs": [],
      "execution_count": null
    }
  ]
}